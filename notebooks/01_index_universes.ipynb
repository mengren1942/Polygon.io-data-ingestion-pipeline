{
 "cells": [
  {
   "cell_type": "code",
   "execution_count": 1,
   "id": "1ee27f94",
   "metadata": {},
   "outputs": [],
   "source": [
    "import pandas as pd"
   ]
  },
  {
   "cell_type": "code",
   "execution_count": 2,
   "id": "749ef81c",
   "metadata": {},
   "outputs": [],
   "source": [
    "sp500  = pd.read_csv(\"https://datahub.io/core/s-and-p-500-companies/_r/-/data/constituents.csv\")\n",
    "sp500_symbols = set(sp500[\"Symbol\"])"
   ]
  },
  {
   "cell_type": "code",
   "execution_count": 3,
   "id": "24b49365",
   "metadata": {},
   "outputs": [],
   "source": [
    "# Nasdaq-100 table – first wikitable on that page\n",
    "nasdaq100 = pd.read_html(\"https://en.wikipedia.org/wiki/Nasdaq-100\")[4]   # table #3 is constituents\n",
    "nasdaq100_symbols = set(nasdaq100[\"Ticker\"])"
   ]
  },
  {
   "cell_type": "code",
   "execution_count": 4,
   "id": "53267e69",
   "metadata": {},
   "outputs": [],
   "source": [
    "from pathlib import Path\n",
    "import json, gzip, pickle\n",
    "import pandas as pd"
   ]
  },
  {
   "cell_type": "code",
   "execution_count": 5,
   "id": "7a41e493",
   "metadata": {},
   "outputs": [],
   "source": [
    "def save_tickers(tickers: set[str], name: str, out_dir=\"ticker_lists\"):\n",
    "    \"\"\"\n",
    "    Save a set of tickers to disk in TXT, CSV, JSON and compressed Pickle.\n",
    "    \n",
    "    Parameters\n",
    "    ----------\n",
    "    tickers : set[str]\n",
    "        Unique tickers (case-sensitive).\n",
    "    name : str\n",
    "        Base filename (e.g. \"sp500\", \"nasdaq100\").\n",
    "    out_dir : str | Path\n",
    "        Folder where files will be written.\n",
    "    \"\"\"\n",
    "    out = Path(out_dir)\n",
    "    out.mkdir(exist_ok=True)\n",
    "\n",
    "    # 1 — Plain-text, one ticker per line\n",
    "    (out / f\"{name}.txt\").write_text(\"\\n\".join(sorted(tickers)))\n",
    "\n",
    "    # 2 — CSV (no header, no index)\n",
    "    pd.Series(sorted(tickers)).to_csv(out / f\"{name}.csv\",\n",
    "                                      index=False, header=False)\n",
    "\n",
    "    # 3 — JSON list\n",
    "    json.dump(sorted(tickers), open(out / f\"{name}.json\", \"w\"))\n",
    "\n",
    "    # 4 — Compressed pickle (fastest for Python re-load)\n",
    "    with gzip.open(out / f\"{name}.pkl.gz\", \"wb\") as f:\n",
    "        pickle.dump(tickers, f, protocol=4)\n",
    "\n",
    "    print(f\"✔ saved {len(tickers):,} tickers to {out.resolve()}\")"
   ]
  },
  {
   "cell_type": "code",
   "execution_count": 6,
   "id": "71f308de",
   "metadata": {},
   "outputs": [
    {
     "name": "stdout",
     "output_type": "stream",
     "text": [
      "✔ saved 503 tickers to /home/mengren/projects/Polygon.io-data-ingestion-pipeline-main/ticker_lists\n",
      "✔ saved 101 tickers to /home/mengren/projects/Polygon.io-data-ingestion-pipeline-main/ticker_lists\n"
     ]
    }
   ],
   "source": [
    "save_tickers(sp500_symbols,  \"sp500\")\n",
    "save_tickers(nasdaq100_symbols, \"nasdaq100\")"
   ]
  },
  {
   "cell_type": "code",
   "execution_count": 7,
   "id": "7c93e16f",
   "metadata": {},
   "outputs": [
    {
     "data": {
      "text/plain": [
       "(503, 101, 517)"
      ]
     },
     "execution_count": 7,
     "metadata": {},
     "output_type": "execute_result"
    }
   ],
   "source": [
    "len(sp500_symbols), len(nasdaq100_symbols), len(sp500_symbols | nasdaq100_symbols)"
   ]
  },
  {
   "cell_type": "code",
   "execution_count": 8,
   "id": "bc201f0e",
   "metadata": {},
   "outputs": [
    {
     "name": "stdout",
     "output_type": "stream",
     "text": [
      "✔ saved 517 tickers to /home/mengren/projects/Polygon.io-data-ingestion-pipeline-main/ticker_lists\n"
     ]
    }
   ],
   "source": [
    "save_tickers(sp500_symbols | nasdaq100_symbols, \"spx_ndx_combined\")"
   ]
  }
 ],
 "metadata": {
  "kernelspec": {
   "display_name": "financial_data",
   "language": "python",
   "name": "python3"
  },
  "language_info": {
   "codemirror_mode": {
    "name": "ipython",
    "version": 3
   },
   "file_extension": ".py",
   "mimetype": "text/x-python",
   "name": "python",
   "nbconvert_exporter": "python",
   "pygments_lexer": "ipython3",
   "version": "3.12.11"
  }
 },
 "nbformat": 4,
 "nbformat_minor": 5
}
