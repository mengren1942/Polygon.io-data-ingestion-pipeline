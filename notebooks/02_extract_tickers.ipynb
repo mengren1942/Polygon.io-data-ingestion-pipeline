{
 "cells": [
  {
   "cell_type": "code",
   "execution_count": 1,
   "id": "7f06d4f3",
   "metadata": {},
   "outputs": [],
   "source": [
    "from pathlib import Path\n",
    "from concurrent.futures import ProcessPoolExecutor\n",
    "import pandas as pd, json, glob, tqdm, os"
   ]
  },
  {
   "cell_type": "code",
   "execution_count": 2,
   "id": "a1efad64",
   "metadata": {},
   "outputs": [],
   "source": [
    "SRC = Path(os.path.expanduser(\"~/data/polygonio_data/day_aggs_v1\"))           # root of raw csv.gz tree\n",
    "CHUNK = 2_000_000                      # rows per pandas chunk\n",
    "N_WORKERS = max(1, os.cpu_count() - 2)  # leave a couple cores free"
   ]
  },
  {
   "cell_type": "code",
   "execution_count": 3,
   "id": "8c454083",
   "metadata": {},
   "outputs": [],
   "source": [
    "def tickers_from_file(csv_gz: str) -> set[str]:\n",
    "    \"\"\"Return unique tickers in a single .csv.gz file (stream-read).\"\"\"\n",
    "    tickers = set()\n",
    "    for chunk in pd.read_csv(\n",
    "            csv_gz,\n",
    "            usecols=[\"ticker\"],\n",
    "            dtype={\"ticker\": \"string\"},\n",
    "            compression=\"gzip\",\n",
    "            chunksize=CHUNK):\n",
    "        tickers.update(chunk[\"ticker\"].unique())\n",
    "    return tickers"
   ]
  },
  {
   "cell_type": "code",
   "execution_count": 4,
   "id": "8488ebf6",
   "metadata": {},
   "outputs": [
    {
     "name": "stderr",
     "output_type": "stream",
     "text": [
      "scanning: 100%|██████████| 5517/5517 [00:07<00:00, 698.01it/s]\n"
     ]
    },
    {
     "name": "stdout",
     "output_type": "stream",
     "text": [
      "⚠️  skipped 1 non-string tickers (e.g. [<NA>])\n",
      "unique tickers: 33833\n"
     ]
    }
   ],
   "source": [
    "files = sorted(glob.glob(str(SRC / \"**/*.csv.gz\"), recursive=True))\n",
    "global_set: set[str] = set()\n",
    "\n",
    "with ProcessPoolExecutor(max_workers=N_WORKERS) as pool:\n",
    "    for local_set in tqdm.tqdm(pool.map(tickers_from_file, files),\n",
    "                                total=len(files),\n",
    "                                desc=\"scanning\"):\n",
    "        global_set.update(local_set)\n",
    "\n",
    "clean_tickers = [t for t in global_set if isinstance(t, str) and t]\n",
    "bad = [t for t in global_set if not (isinstance(t, str) and t)]\n",
    "if bad:\n",
    "    print(f\"⚠️  skipped {len(bad)} non-string tickers (e.g. {bad[:3]})\")\n",
    "\n",
    "# Path(\"ticker_catalog2.json\").write_text(json.dumps(sorted(clean_tickers)))\n",
    "print(\"unique tickers:\", len(global_set))"
   ]
  },
  {
   "cell_type": "code",
   "execution_count": 5,
   "id": "cb94ec6f",
   "metadata": {},
   "outputs": [],
   "source": [
    "from pathlib import Path\n",
    "import json, gzip, pickle\n",
    "import pandas as pd\n",
    "\n",
    "def save_tickers(tickers: set[str], name: str, out_dir=\"ticker_lists\"):\n",
    "    \"\"\"\n",
    "    Save a set of tickers to disk in TXT, CSV, JSON and compressed Pickle.\n",
    "    \n",
    "    Parameters\n",
    "    ----------\n",
    "    tickers : set[str]\n",
    "        Unique tickers (case-sensitive).\n",
    "    name : str\n",
    "        Base filename (e.g. \"sp500\", \"nasdaq100\").\n",
    "    out_dir : str | Path\n",
    "        Folder where files will be written.\n",
    "    \"\"\"\n",
    "    out = Path(out_dir)\n",
    "    out.mkdir(exist_ok=True)\n",
    "\n",
    "    # 1 — Plain-text, one ticker per line\n",
    "    (out / f\"{name}.txt\").write_text(\"\\n\".join(sorted(tickers)))\n",
    "\n",
    "    # 2 — CSV (no header, no index)\n",
    "    pd.Series(sorted(tickers)).to_csv(out / f\"{name}.csv\",\n",
    "                                      index=False, header=False)\n",
    "\n",
    "    # 3 — JSON list\n",
    "    json.dump(sorted(tickers), open(out / f\"{name}.json\", \"w\"))\n",
    "\n",
    "    # 4 — Compressed pickle (fastest for Python re-load)\n",
    "    with gzip.open(out / f\"{name}.pkl.gz\", \"wb\") as f:\n",
    "        pickle.dump(tickers, f, protocol=4)\n",
    "\n",
    "    print(f\"✔ saved {len(tickers):,} tickers to {out.resolve()}\")"
   ]
  },
  {
   "cell_type": "code",
   "execution_count": 6,
   "id": "83c540ad",
   "metadata": {},
   "outputs": [
    {
     "name": "stdout",
     "output_type": "stream",
     "text": [
      "✔ saved 33,832 tickers to /home/mengren/projects/Polygon.io-data-ingestion-pipeline-main/ticker_lists\n"
     ]
    }
   ],
   "source": [
    "save_tickers(clean_tickers, \"all_polygonio_tickers\")"
   ]
  },
  {
   "cell_type": "code",
   "execution_count": null,
   "id": "ecd9484a",
   "metadata": {},
   "outputs": [],
   "source": []
  }
 ],
 "metadata": {
  "kernelspec": {
   "display_name": "fin_data",
   "language": "python",
   "name": "python3"
  },
  "language_info": {
   "codemirror_mode": {
    "name": "ipython",
    "version": 3
   },
   "file_extension": ".py",
   "mimetype": "text/x-python",
   "name": "python",
   "nbconvert_exporter": "python",
   "pygments_lexer": "ipython3",
   "version": "3.12.11"
  }
 },
 "nbformat": 4,
 "nbformat_minor": 5
}
